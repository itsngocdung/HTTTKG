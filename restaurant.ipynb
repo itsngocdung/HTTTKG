{
 "cells": [
  {
   "cell_type": "code",
   "execution_count": 6,
   "id": "289157d8-3285-45fa-94d9-dd0f48fdf26f",
   "metadata": {},
   "outputs": [],
   "source": [
    "# Import các thư viện cần thiết\n",
    "import folium\n",
    "import pandas as pd\n",
    "from geopy.distance import geodesic\n",
    "import os  # Import thư viện os để quản lý tệp\n",
    "\n",
    "# Đọc dữ liệu từ tệp CSV\n",
    "data = pd.read_csv(\"data1.csv\")\n",
    "\n",
    "# Kiểm tra xem tệp HTML \"restaurant_map.html\" đã tồn tại chưa, nếu có thì xóa nó\n",
    "if os.path.exists(\"restaurant_map.html\"):\n",
    "    os.remove(\"restaurant_map.html\")\n",
    "\n",
    "# Tạo một bản đồ bằng Folium với tọa độ trung tâm\n",
    "mymap = folium.Map(location=[data['latitude'].mean(), data['longitude'].mean()], zoom_start=15)\n",
    "\n",
    "# Tạo điểm đánh dấu cho vị trí người dùng\n",
    "human_icon = folium.Icon(icon=\"fa-person\", prefix=\"fa\", color= \"red\")\n",
    "\n",
    "# Lưu vị trí người dùng (ví dụ: Hà Nội)\n",
    "user_location = (21.046269, 105.785929)  # Ví dụ: EPU\n",
    "\n",
    "# Thêm marker cho vị trí người dùng\n",
    "folium.Marker(\n",
    "    location=user_location,\n",
    "    icon=human_icon,\n",
    "    popup=folium.Popup(html=\"Bạn đang ở đây\", max_width=300)\n",
    ").add_to(mymap)\n",
    "\n",
    "# Lặp qua từng dòng trong dữ liệu CSV\n",
    "for index, row in data.iterrows():\n",
    "    name = row['name']\n",
    "    latitude = row['latitude']\n",
    "    longitude = row['longitude']\n",
    "    rating = row['rating']\n",
    "\n",
    "    # Tính khoảng cách từ vị trí người dùng tới nhà hàng\n",
    "    distance = geodesic(user_location, (latitude, longitude)).kilometers\n",
    "\n",
    "    # Thay đổi biểu tượng thành biểu tượng của nhà hàng (restaurant)\n",
    "    restaurant_icon = folium.Icon(icon=\"cutlery\", prefix=\"fa\", color = \"orange\")\n",
    "\n",
    "    # Tạo popup với thông tin rộng hơn bao gồm khoảng cách\n",
    "    popup_html = f\"<strong>{name}</strong><br>Rating: {rating}<br>Khoảng cách: {distance:.2f} km\"\n",
    "\n",
    "    # Thêm điểm đánh dấu (marker) cho từng nhà hàng với biểu tượng và popup tùy chỉnh\n",
    "    folium.Marker(\n",
    "        location=[latitude, longitude],\n",
    "        icon=restaurant_icon,\n",
    "        popup=folium.Popup(html=popup_html, max_width=300)\n",
    "    ).add_to(mymap)\n",
    "\n",
    "# Lưu bản đồ vào tệp HTML\n",
    "mymap.save(\"restaurant_map.html\")\n"
   ]
  },
  {
   "cell_type": "code",
   "execution_count": null,
   "id": "0ef4e6b9-6236-41c7-9dad-c6300c53bbcd",
   "metadata": {},
   "outputs": [],
   "source": []
  }
 ],
 "metadata": {
  "kernelspec": {
   "display_name": "Python 3 (ipykernel)",
   "language": "python",
   "name": "python3"
  },
  "language_info": {
   "codemirror_mode": {
    "name": "ipython",
    "version": 3
   },
   "file_extension": ".py",
   "mimetype": "text/x-python",
   "name": "python",
   "nbconvert_exporter": "python",
   "pygments_lexer": "ipython3",
   "version": "3.11.6"
  }
 },
 "nbformat": 4,
 "nbformat_minor": 5
}
